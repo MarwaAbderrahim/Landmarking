{
 "cells": [
  {
   "cell_type": "code",
   "execution_count": 26,
   "metadata": {},
   "outputs": [
    {
     "name": "stdout",
     "output_type": "stream",
     "text": [
      "Le fichier CSV a été généré avec succès jusqu'à l'index 145 : C:\\Users\\MarwaABDERRAHIM\\OneDrive - ABYS MEDICAL\\Bureau\\data_test\\train.csv\n"
     ]
    }
   ],
   "source": [
    "import csv\n",
    "\n",
    "# Entêtes du fichier CSV\n",
    "headers = ['image_name', 'image_path', 'landmark_file_path', 'landmark_mask_path']\n",
    "\n",
    "# Chemin du fichier CSV de sortie\n",
    "output_csv_path = r'C:\\Users\\MarwaABDERRAHIM\\OneDrive - ABYS MEDICAL\\Bureau\\data_test\\train.csv'\n",
    "\n",
    "# Préfixe du nom du fichier d'origine\n",
    "file_prefix = 'case_{}_org'\n",
    "\n",
    "# Chemin de base du dossier des fichiers\n",
    "base_path = r'C:\\Users\\MarwaABDERRAHIM\\OneDrive - ABYS MEDICAL\\Bureau\\data_test/'\n",
    "\n",
    "# Remplir le fichier CSV avec les données jusqu'à l'index 145\n",
    "with open(output_csv_path, 'w', newline='') as csvfile:\n",
    "    csvwriter = csv.writer(csvfile)\n",
    "    csvwriter.writerow(headers)  # Écrire les entêtes\n",
    "    \n",
    "    for idx in range(1, 21):\n",
    "        # Construire les chemins des fichiers en fonction de l'index\n",
    "        image_name = file_prefix.format(idx)\n",
    "        image_path = f'{base_path}data_v2/{image_name}.nii.gz'\n",
    "        landmark_file_path = f'{base_path}landmark_v2/{image_name}.csv'\n",
    "        landmark_mask_path = f'{base_path}landmark_mask_v2/batch_1_1.5mm/{image_name}.nii.gz'\n",
    "        \n",
    "        # Écrire les données dans le fichier CSV\n",
    "        csvwriter.writerow([image_name, image_path, landmark_file_path, landmark_mask_path])\n",
    "\n",
    "print(f'Le fichier CSV a été généré avec succès jusqu\\'à l\\'index 145 : {output_csv_path}')\n"
   ]
  },
  {
   "cell_type": "code",
   "execution_count": 20,
   "metadata": {},
   "outputs": [],
   "source": [
    "import csv\n",
    "\n",
    "def convert_fcsv_to_csv(input_file, output_file):\n",
    "    fiducials = []\n",
    "    name_mapping = {\n",
    "        '1': 'psisl',\n",
    "        '2': 'asisl',\n",
    "        '3': 'isl',\n",
    "        '4': 'ps',\n",
    "        '5': 'isr',\n",
    "        '6': 'asisr',\n",
    "        '7': 'psisr',\n",
    "        '8': 'sp'\n",
    "    }\n",
    "    \n",
    "    with open(input_file, 'r') as f:\n",
    "        lines = f.readlines()\n",
    "        for line in lines:\n",
    "            if not line.startswith('#'):\n",
    "                data = line.strip().split(',')\n",
    "                fiducial_id = data[0]\n",
    "                name = name_mapping.get(fiducial_id, f\"point{fiducial_id}\")\n",
    "                x, y, z = data[1:4]\n",
    "                fiducials.append((name, x, y, z))\n",
    "\n",
    "    with open(output_file, 'w', newline='') as csvfile:\n",
    "        fieldnames = ['name', 'x', 'y', 'z']\n",
    "        writer = csv.DictWriter(csvfile, fieldnames=fieldnames)\n",
    "        writer.writeheader()\n",
    "        for fiducial in fiducials:\n",
    "            name, x, y, z = fiducial\n",
    "            writer.writerow({'name': name, 'x': x, 'y': y, 'z': z})\n",
    "\n",
    "input_file = r\"C:\\Users\\MarwaABDERRAHIM\\OneDrive - ABYS MEDICAL\\Bureau\\GT landmarks\\NEW\\image20.fcsv\"\n",
    "output_file = r\"C:\\Users\\MarwaABDERRAHIM\\OneDrive - ABYS MEDICAL\\Bureau\\data_test\\landmark_v2\\case_20_org.csv\"\n",
    "convert_fcsv_to_csv(input_file, output_file)\n"
   ]
  }
 ],
 "metadata": {
  "kernelspec": {
   "display_name": "Landmark2",
   "language": "python",
   "name": "python3"
  },
  "language_info": {
   "codemirror_mode": {
    "name": "ipython",
    "version": 3
   },
   "file_extension": ".py",
   "mimetype": "text/x-python",
   "name": "python",
   "nbconvert_exporter": "python",
   "pygments_lexer": "ipython3",
   "version": "3.6.13"
  }
 },
 "nbformat": 4,
 "nbformat_minor": 2
}
